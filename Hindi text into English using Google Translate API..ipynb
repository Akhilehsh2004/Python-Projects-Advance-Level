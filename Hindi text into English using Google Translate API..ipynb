{
 "cells": [
  {
   "cell_type": "code",
   "execution_count": null,
   "id": "3860bf64-d7f2-4387-9631-4e8ba3fc0848",
   "metadata": {},
   "outputs": [
    {
     "name": "stdout",
     "output_type": "stream",
     "text": [
      "🔹 Hindi to English Translator 🔹\n"
     ]
    }
   ],
   "source": [
    "import googletrans\n",
    "from googletrans import Translator\n",
    "\n",
    "def translate_to_hindi(text):\n",
    "    \"\"\"\n",
    "    Function to translate Hindi text into English using Google Translate API.\n",
    "    \"\"\"\n",
    "    translator = Translator()\n",
    "    translated_text = translator.translate(text, src='hi', dest='en')\n",
    "    return translated_text.text\n",
    "\n",
    "if __name__ == \"__main__\":\n",
    "    print(\"🔹 Hindi to English Translator 🔹\")\n",
    "    hindi_text = input(\"Enter text in Hindi: \")\n",
    "    \n",
    "    english_translation = translate_to_hindi(hindi_text)\n",
    "    \n",
    "    print(\"\\n🔸 Translated Text (Hindi):\", english_translation)\n"
   ]
  },
  {
   "cell_type": "code",
   "execution_count": null,
   "id": "a0ca07ed-e69e-4325-b2a5-5a12b69dd5f5",
   "metadata": {},
   "outputs": [],
   "source": []
  }
 ],
 "metadata": {
  "kernelspec": {
   "display_name": "Python [conda env:base] *",
   "language": "python",
   "name": "conda-base-py"
  },
  "language_info": {
   "codemirror_mode": {
    "name": "ipython",
    "version": 3
   },
   "file_extension": ".py",
   "mimetype": "text/x-python",
   "name": "python",
   "nbconvert_exporter": "python",
   "pygments_lexer": "ipython3",
   "version": "3.12.7"
  }
 },
 "nbformat": 4,
 "nbformat_minor": 5
}
