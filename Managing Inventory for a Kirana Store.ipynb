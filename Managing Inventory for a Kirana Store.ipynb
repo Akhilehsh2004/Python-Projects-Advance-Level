{
 "cells": [
  {
   "cell_type": "markdown",
   "id": "f4294697-a265-4089-bb17-f3c283549998",
   "metadata": {},
   "source": [
    "## Akhilesh Pant (AU FTCA: MCA)"
   ]
  },
  {
   "cell_type": "markdown",
   "id": "d225ae02-c2ea-4723-b17e-40830d5aefa0",
   "metadata": {},
   "source": [
    "## Project : Managing Inventory for a Kirana Store\n",
    "\n",
    "Simulate inventory management for a local Kirana store (a common type of small grocery store in India).\n",
    "\n",
    "Focus on essential items like rice, lentils (dal), spices, and cooking oil, reflecting typical Indian household needs.\n",
    "\n",
    "\n",
    "1. Use lists to store item names, quantities in stock, and prices.\n",
    "2. Use operators to update inventory after sales, generate bills for customers, and track daily/weekly sales revenue.\n",
    "3. Implement a system to alert the store owner when stock of an item falls below a threshold, suggesting reordering."
   ]
  },
  {
   "cell_type": "code",
   "execution_count": null,
   "id": "697ee0e3-a1da-447a-996c-585cdf0fb42e",
   "metadata": {},
   "outputs": [
    {
     "name": "stdout",
     "output_type": "stream",
     "text": [
      "\n",
      "--- Kirana Store Management ---\n",
      "1. Display Inventory\n",
      "2. Generate Bill\n",
      "3. Check Low Stock\n",
      "4. End of Day\n",
      "5. End of Week\n",
      "6. Exit\n"
     ]
    },
    {
     "name": "stdin",
     "output_type": "stream",
     "text": [
      "Enter your choice:  2\n"
     ]
    },
    {
     "name": "stdout",
     "output_type": "stream",
     "text": [
      "\n",
      "--- Generate Bill ---\n",
      "\n",
      "Current Inventory:\n",
      "Item                 Stock      Price (₹) \n",
      "----------------------------------------\n",
      "Rice (Kg)            50         50        \n",
      "Lentils (Dal)        30         100       \n",
      "Spices (Pkt)         20         70        \n",
      "Cooking Oil (Ltr)    15         150       \n",
      "----------------------------------------\n"
     ]
    },
    {
     "name": "stdin",
     "output_type": "stream",
     "text": [
      "Enter item name (or type 'done' to finish):  Rice (Kg)\n",
      "Enter quantity of Rice (Kg) to purchase:  45\n"
     ]
    },
    {
     "name": "stdout",
     "output_type": "stream",
     "text": [
      "\n",
      "Current Inventory:\n",
      "Item                 Stock      Price (₹) \n",
      "----------------------------------------\n",
      "Rice (Kg)            5          50        \n",
      "Lentils (Dal)        30         100       \n",
      "Spices (Pkt)         20         70        \n",
      "Cooking Oil (Ltr)    15         150       \n",
      "----------------------------------------\n"
     ]
    },
    {
     "name": "stdin",
     "output_type": "stream",
     "text": [
      "Enter item name (or type 'done' to finish):  done\n"
     ]
    },
    {
     "name": "stdout",
     "output_type": "stream",
     "text": [
      "\n",
      "--- Customer Bill ---\n",
      "Item                 Quantity   Cost (₹)  \n",
      "----------------------------------------\n",
      "Rice (Kg)            45         2250      \n",
      "----------------------------------------\n",
      "Total Cost: ₹2250\n",
      "\n",
      "--- Kirana Store Management ---\n",
      "1. Display Inventory\n",
      "2. Generate Bill\n",
      "3. Check Low Stock\n",
      "4. End of Day\n",
      "5. End of Week\n",
      "6. Exit\n"
     ]
    }
   ],
   "source": [
    "# Inventory Management for Kirana Store\n",
    "\n",
    "# Initialize inventory data\n",
    "items = [\"Rice (Kg)\", \"Lentils (Dal)\", \"Spices (Pkt)\", \"Cooking Oil (Ltr)\"]\n",
    "stock = [50, 30, 20, 15]  # Quantity in stock\n",
    "prices = [50, 100, 70, 150]  # Prices per unit\n",
    "low_stock_threshold = 5  # Threshold for low stock alert\n",
    "\n",
    "# Daily and Weekly Sales Revenue\n",
    "daily_sales_revenue = 0\n",
    "weekly_sales_revenue = 0\n",
    "\n",
    "# Function to display the inventory\n",
    "def display_inventory():\n",
    "    print(\"\\nCurrent Inventory:\")\n",
    "    print(\"{:<20} {:<10} {:<10}\".format(\"Item\", \"Stock\", \"Price (₹)\"))\n",
    "    print(\"-\" * 40)\n",
    "    for item, qty, price in zip(items, stock, prices):\n",
    "        print(\"{:<20} {:<10} {:<10}\".format(item, qty, price))\n",
    "    print(\"-\" * 40)\n",
    "\n",
    "# Function to generate a bill for a customer\n",
    "def generate_bill():\n",
    "    global daily_sales_revenue\n",
    "    print(\"\\n--- Generate Bill ---\")\n",
    "    cart_items = []\n",
    "    cart_quantities = []\n",
    "    total_cost = 0\n",
    "\n",
    "    while True:\n",
    "        display_inventory()\n",
    "        item = input(\"Enter item name (or type 'done' to finish): \").strip()\n",
    "        if item.lower() == \"done\":\n",
    "            break\n",
    "        if item in items:\n",
    "            item_index = items.index(item)\n",
    "            quantity = int(input(f\"Enter quantity of {item} to purchase: \"))\n",
    "            if quantity <= stock[item_index]:\n",
    "                cart_items.append(item)\n",
    "                cart_quantities.append(quantity)\n",
    "                cost = prices[item_index] * quantity\n",
    "                total_cost += cost\n",
    "                stock[item_index] -= quantity\n",
    "            else:\n",
    "                print(f\"Sorry, only {stock[item_index]} units of {item} are available.\")\n",
    "        else:\n",
    "            print(\"Invalid item! Please choose from the inventory.\")\n",
    "\n",
    "    # Print the bill\n",
    "    print(\"\\n--- Customer Bill ---\")\n",
    "    print(\"{:<20} {:<10} {:<10}\".format(\"Item\", \"Quantity\", \"Cost (₹)\"))\n",
    "    print(\"-\" * 40)\n",
    "    for item, qty in zip(cart_items, cart_quantities):\n",
    "        cost = prices[items.index(item)] * qty\n",
    "        print(\"{:<20} {:<10} {:<10}\".format(item, qty, cost))\n",
    "    print(\"-\" * 40)\n",
    "    print(f\"Total Cost: ₹{total_cost}\")\n",
    "    daily_sales_revenue += total_cost\n",
    "\n",
    "# Function to check low stock items and alert\n",
    "def check_low_stock():\n",
    "    print(\"\\n--- Low Stock Alert ---\")\n",
    "    low_stock_items = []\n",
    "    for item, qty in zip(items, stock):\n",
    "        if qty < low_stock_threshold:\n",
    "            low_stock_items.append(item)\n",
    "    if low_stock_items:\n",
    "        print(\"The following items are running low on stock:\")\n",
    "        for item in low_stock_items:\n",
    "            print(f\"- {item}\")\n",
    "        print(\"Consider reordering these items.\")\n",
    "    else:\n",
    "        print(\"All items are sufficiently stocked.\")\n",
    "\n",
    "# Function to reset daily sales revenue\n",
    "def end_of_day():\n",
    "    global daily_sales_revenue, weekly_sales_revenue\n",
    "    print(f\"\\nEnd of Day Report: Total Sales Revenue: ₹{daily_sales_revenue}\")\n",
    "    weekly_sales_revenue += daily_sales_revenue\n",
    "    daily_sales_revenue = 0\n",
    "\n",
    "# Function to reset weekly sales revenue\n",
    "def end_of_week():\n",
    "    global weekly_sales_revenue\n",
    "    print(f\"\\nEnd of Week Report: Total Weekly Sales Revenue: ₹{weekly_sales_revenue}\")\n",
    "    weekly_sales_revenue = 0\n",
    "\n",
    "# Main menu for the Kirana Store Management System\n",
    "def main():\n",
    "    while True:\n",
    "        print(\"\\n--- Kirana Store Management ---\")\n",
    "        print(\"1. Display Inventory\")\n",
    "        print(\"2. Generate Bill\")\n",
    "        print(\"3. Check Low Stock\")\n",
    "        print(\"4. End of Day\")\n",
    "        print(\"5. End of Week\")\n",
    "        print(\"6. Exit\")\n",
    "        choice = int(input(\"Enter your choice: \"))\n",
    "        \n",
    "        if choice == 1:\n",
    "            display_inventory()\n",
    "        elif choice == 2:\n",
    "            generate_bill()\n",
    "        elif choice == 3:\n",
    "            check_low_stock()\n",
    "        elif choice == 4:\n",
    "            end_of_day()\n",
    "        elif choice == 5:\n",
    "            end_of_week()\n",
    "        elif choice == 6:\n",
    "            print(\"Exiting Kirana Store Management System.\")\n",
    "            break\n",
    "        else:\n",
    "            print(\"Invalid choice! Please try again.\")\n",
    "\n",
    "# Run the system\n",
    "main()\n"
   ]
  }
 ],
 "metadata": {
  "kernelspec": {
   "display_name": "Python [conda env:base] *",
   "language": "python",
   "name": "conda-base-py"
  },
  "language_info": {
   "codemirror_mode": {
    "name": "ipython",
    "version": 3
   },
   "file_extension": ".py",
   "mimetype": "text/x-python",
   "name": "python",
   "nbconvert_exporter": "python",
   "pygments_lexer": "ipython3",
   "version": "3.12.7"
  }
 },
 "nbformat": 4,
 "nbformat_minor": 5
}
