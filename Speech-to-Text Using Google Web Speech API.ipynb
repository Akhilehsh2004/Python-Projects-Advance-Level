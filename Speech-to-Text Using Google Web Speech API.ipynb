{
 "cells": [
  {
   "cell_type": "markdown",
   "id": "7877268c-dfbd-470c-a514-2abf28bbc4a6",
   "metadata": {},
   "source": [
    "## Akhilesh Pant (AU FTCA: MCA)¶"
   ]
  },
  {
   "cell_type": "markdown",
   "id": "69cb3ceb-9a43-440f-b92d-20ffe5bfde97",
   "metadata": {},
   "source": [
    "## Speech-`to-Text Using Google Web Speech API`"
   ]
  },
  {
   "cell_type": "code",
   "execution_count": 30,
   "id": "fdbbe00c-0797-4a34-a640-36cd8c89c690",
   "metadata": {},
   "outputs": [
    {
     "name": "stdout",
     "output_type": "stream",
     "text": [
      "Say something...\n",
      "You said: Akhilesh pant from Amrapali University\n"
     ]
    }
   ],
   "source": [
    "import speech_recognition as sr\n",
    "\n",
    "# Initialize recognizer\n",
    "recognizer = sr.Recognizer()\n",
    "\n",
    "# Use the microphone as the audio source\n",
    "with sr.Microphone() as source:\n",
    "    print(\"Say something...\")\n",
    "    recognizer.adjust_for_ambient_noise(source)  # Adjust for ambient noise\n",
    "    audio = recognizer.listen(source)  # Listen for the first phrase\n",
    "\n",
    "    try:\n",
    "        # Recognize speech using Google Web Speech API\n",
    "        text = recognizer.recognize_google(audio)\n",
    "        print(\"You said: \" + text)\n",
    "    except sr.UnknownValueError:\n",
    "        print(\"Sorry, I could not understand the audio.\")\n",
    "    except sr.RequestError as e:\n",
    "        print(f\"Could not request results from Google Speech Recognition service; {e}\")"
   ]
  }
 ],
 "metadata": {
  "kernelspec": {
   "display_name": "Python [conda env:base] *",
   "language": "python",
   "name": "conda-base-py"
  },
  "language_info": {
   "codemirror_mode": {
    "name": "ipython",
    "version": 3
   },
   "file_extension": ".py",
   "mimetype": "text/x-python",
   "name": "python",
   "nbconvert_exporter": "python",
   "pygments_lexer": "ipython3",
   "version": "3.12.7"
  }
 },
 "nbformat": 4,
 "nbformat_minor": 5
}
