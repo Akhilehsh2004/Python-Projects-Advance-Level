{
 "cells": [
  {
   "cell_type": "markdown",
   "id": "df683551-1344-41a0-9da3-e81e364919dd",
   "metadata": {},
   "source": [
    "## Akhilesh Pant (AU FTCA: MCA)"
   ]
  },
  {
   "cell_type": "code",
   "execution_count": 29,
   "id": "19e4a0e2-18ab-456e-82f0-eaa9b3b33646",
   "metadata": {},
   "outputs": [
    {
     "name": "stdout",
     "output_type": "stream",
     "text": [
      "Credential IDs found: ['7EBXBE21EMQOP14364000031378057']\n"
     ]
    }
   ],
   "source": [
    "import re\n",
    "from PyPDF2 import PdfReader\n",
    "\n",
    "def extract_credential_id(file_path):\n",
    "    \n",
    "    # Open and read the PDF file\n",
    "    reader = PdfReader(file_path)\n",
    "    text = \"\"\n",
    "    for page in reader.pages:\n",
    "        text += page.extract_text()\n",
    "    \n",
    "    # Use regex to find patterns resembling credential IDs\n",
    "    #credential_ids = re.findall(r'\\b[A-Z0-9]{12,}\\b', text)\n",
    "    credential_ids = re.findall(r'\\b[A-Z0-9]{12,}\\b', text)\n",
    "\n",
    "    return credential_ids\n",
    "\n",
    "# Example usage\n",
    "file_path = \"✨Python+Programming+Internship+(15+Days).pdf\"\n",
    "credential_ids = extract_credential_id(file_path)\n",
    "print(\"Credential IDs found:\", credential_ids)"
   ]
  }
 ],
 "metadata": {
  "kernelspec": {
   "display_name": "Python [conda env:base] *",
   "language": "python",
   "name": "conda-base-py"
  },
  "language_info": {
   "codemirror_mode": {
    "name": "ipython",
    "version": 3
   },
   "file_extension": ".py",
   "mimetype": "text/x-python",
   "name": "python",
   "nbconvert_exporter": "python",
   "pygments_lexer": "ipython3",
   "version": "3.12.7"
  }
 },
 "nbformat": 4,
 "nbformat_minor": 5
}
