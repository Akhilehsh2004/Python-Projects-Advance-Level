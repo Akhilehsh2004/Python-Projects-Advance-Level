{
 "cells": [
  {
   "cell_type": "code",
   "execution_count": 1,
   "id": "c718dbaa-0506-40a7-8853-9e16361ee869",
   "metadata": {},
   "outputs": [
    {
     "name": "stdout",
     "output_type": "stream",
     "text": [
      "🔹 English to Hindi Translator 🔹\n"
     ]
    },
    {
     "name": "stdin",
     "output_type": "stream",
     "text": [
      "Enter text in English:  How are you\n"
     ]
    },
    {
     "name": "stdout",
     "output_type": "stream",
     "text": [
      "\n",
      "🔸 Translated Text (Hindi): आप कैसे हैं?\n"
     ]
    }
   ],
   "source": [
    "import googletrans\n",
    "from googletrans import Translator\n",
    "\n",
    "def translate_to_hindi(text):\n",
    "    \"\"\"\n",
    "    Function to translate English text into Hindi using Google Translate API.\n",
    "    \"\"\"\n",
    "    translator = Translator()\n",
    "    translated_text = translator.translate(text, src='en', dest='hi')\n",
    "    return translated_text.text\n",
    "\n",
    "if __name__ == \"__main__\":\n",
    "    print(\"🔹 English to Hindi Translator 🔹\")\n",
    "    english_text = input(\"Enter text in English: \")\n",
    "    \n",
    "    hindi_translation = translate_to_hindi(english_text)\n",
    "    \n",
    "    print(\"\\n🔸 Translated Text (Hindi):\", hindi_translation)\n"
   ]
  },
  {
   "cell_type": "code",
   "execution_count": null,
   "id": "407237b3-71ed-46d1-851f-a455c1672f1f",
   "metadata": {},
   "outputs": [],
   "source": []
  }
 ],
 "metadata": {
  "kernelspec": {
   "display_name": "Python [conda env:base] *",
   "language": "python",
   "name": "conda-base-py"
  },
  "language_info": {
   "codemirror_mode": {
    "name": "ipython",
    "version": 3
   },
   "file_extension": ".py",
   "mimetype": "text/x-python",
   "name": "python",
   "nbconvert_exporter": "python",
   "pygments_lexer": "ipython3",
   "version": "3.12.7"
  }
 },
 "nbformat": 4,
 "nbformat_minor": 5
}
